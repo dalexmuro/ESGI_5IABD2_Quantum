{
 "cells": [
  {
   "cell_type": "code",
   "execution_count": 8,
   "id": "deb495de1fb3a126",
   "metadata": {
    "collapsed": true,
    "ExecuteTime": {
     "end_time": "2023-11-10T09:48:33.767110600Z",
     "start_time": "2023-11-10T09:48:33.752687600Z"
    }
   },
   "outputs": [],
   "source": [
    "from qiskit_ibm_runtime import QiskitRuntimeService\n",
    "from qiskit.test.reference_circuits import ReferenceCircuits\n",
    "from qiskit_ibm_runtime import QiskitRuntimeService, Sampler"
   ]
  },
  {
   "cell_type": "code",
   "execution_count": 4,
   "outputs": [
    {
     "ename": "AccountAlreadyExistsError",
     "evalue": "'Named account (default-ibm-quantum) already exists. Set overwrite=True to overwrite.'",
     "output_type": "error",
     "traceback": [
      "\u001B[1;31m---------------------------------------------------------------------------\u001B[0m",
      "\u001B[1;31mAccountAlreadyExistsError\u001B[0m                 Traceback (most recent call last)",
      "Cell \u001B[1;32mIn[4], line 2\u001B[0m\n\u001B[0;32m      1\u001B[0m \u001B[38;5;66;03m# Save an IBM Quantum account and set it as your default account.\u001B[39;00m\n\u001B[1;32m----> 2\u001B[0m QiskitRuntimeService\u001B[38;5;241m.\u001B[39msave_account(channel\u001B[38;5;241m=\u001B[39m\u001B[38;5;124m\"\u001B[39m\u001B[38;5;124mibm_quantum\u001B[39m\u001B[38;5;124m\"\u001B[39m,token\u001B[38;5;241m=\u001B[39m\u001B[38;5;124m\"\u001B[39m\u001B[38;5;124ma196ee624f4d28a560f4bd27ff372f17ef20c6f0a6e206fe90117d9500f895b76d2edde496916747a49928ea6cf0bea1f8983f40a79b6ec64264c87f744a1367\u001B[39m\u001B[38;5;124m\"\u001B[39m, set_as_default\u001B[38;5;241m=\u001B[39m\u001B[38;5;28;01mTrue\u001B[39;00m)\n",
      "File \u001B[1;32m~\\miniconda3\\envs\\TPInfQuant\\Lib\\site-packages\\qiskit_ibm_runtime\\qiskit_runtime_service.py:719\u001B[0m, in \u001B[0;36mQiskitRuntimeService.save_account\u001B[1;34m(token, url, instance, channel, filename, name, proxies, verify, overwrite, channel_strategy, set_as_default)\u001B[0m\n\u001B[0;32m    682\u001B[0m \u001B[38;5;129m@staticmethod\u001B[39m\n\u001B[0;32m    683\u001B[0m \u001B[38;5;28;01mdef\u001B[39;00m \u001B[38;5;21msave_account\u001B[39m(\n\u001B[0;32m    684\u001B[0m     token: Optional[\u001B[38;5;28mstr\u001B[39m] \u001B[38;5;241m=\u001B[39m \u001B[38;5;28;01mNone\u001B[39;00m,\n\u001B[1;32m   (...)\u001B[0m\n\u001B[0;32m    694\u001B[0m     set_as_default: Optional[\u001B[38;5;28mbool\u001B[39m] \u001B[38;5;241m=\u001B[39m \u001B[38;5;28;01mNone\u001B[39;00m,\n\u001B[0;32m    695\u001B[0m ) \u001B[38;5;241m-\u001B[39m\u001B[38;5;241m>\u001B[39m \u001B[38;5;28;01mNone\u001B[39;00m:\n\u001B[0;32m    696\u001B[0m \u001B[38;5;250m    \u001B[39m\u001B[38;5;124;03m\"\"\"Save the account to disk for future use.\u001B[39;00m\n\u001B[0;32m    697\u001B[0m \n\u001B[0;32m    698\u001B[0m \u001B[38;5;124;03m    Args:\u001B[39;00m\n\u001B[1;32m   (...)\u001B[0m\n\u001B[0;32m    716\u001B[0m \u001B[38;5;124;03m            as the default account.\u001B[39;00m\n\u001B[0;32m    717\u001B[0m \u001B[38;5;124;03m    \"\"\"\u001B[39;00m\n\u001B[1;32m--> 719\u001B[0m     AccountManager\u001B[38;5;241m.\u001B[39msave(\n\u001B[0;32m    720\u001B[0m         token\u001B[38;5;241m=\u001B[39mtoken,\n\u001B[0;32m    721\u001B[0m         url\u001B[38;5;241m=\u001B[39murl,\n\u001B[0;32m    722\u001B[0m         instance\u001B[38;5;241m=\u001B[39minstance,\n\u001B[0;32m    723\u001B[0m         channel\u001B[38;5;241m=\u001B[39mchannel,\n\u001B[0;32m    724\u001B[0m         filename\u001B[38;5;241m=\u001B[39mfilename,\n\u001B[0;32m    725\u001B[0m         name\u001B[38;5;241m=\u001B[39mname,\n\u001B[0;32m    726\u001B[0m         proxies\u001B[38;5;241m=\u001B[39mProxyConfiguration(\u001B[38;5;241m*\u001B[39m\u001B[38;5;241m*\u001B[39mproxies) \u001B[38;5;28;01mif\u001B[39;00m proxies \u001B[38;5;28;01melse\u001B[39;00m \u001B[38;5;28;01mNone\u001B[39;00m,\n\u001B[0;32m    727\u001B[0m         verify\u001B[38;5;241m=\u001B[39mverify,\n\u001B[0;32m    728\u001B[0m         overwrite\u001B[38;5;241m=\u001B[39moverwrite,\n\u001B[0;32m    729\u001B[0m         channel_strategy\u001B[38;5;241m=\u001B[39mchannel_strategy,\n\u001B[0;32m    730\u001B[0m         set_as_default\u001B[38;5;241m=\u001B[39mset_as_default,\n\u001B[0;32m    731\u001B[0m     )\n",
      "File \u001B[1;32m~\\miniconda3\\envs\\TPInfQuant\\Lib\\site-packages\\qiskit_ibm_runtime\\accounts\\management.py:67\u001B[0m, in \u001B[0;36mAccountManager.save\u001B[1;34m(cls, token, url, instance, channel, filename, name, proxies, verify, overwrite, channel_strategy, set_as_default)\u001B[0m\n\u001B[0;32m     57\u001B[0m filename \u001B[38;5;241m=\u001B[39m os\u001B[38;5;241m.\u001B[39mpath\u001B[38;5;241m.\u001B[39mexpanduser(filename)\n\u001B[0;32m     58\u001B[0m config \u001B[38;5;241m=\u001B[39m Account\u001B[38;5;241m.\u001B[39mcreate_account(\n\u001B[0;32m     59\u001B[0m     channel\u001B[38;5;241m=\u001B[39mchannel,\n\u001B[0;32m     60\u001B[0m     token\u001B[38;5;241m=\u001B[39mtoken,\n\u001B[1;32m   (...)\u001B[0m\n\u001B[0;32m     65\u001B[0m     channel_strategy\u001B[38;5;241m=\u001B[39mchannel_strategy,\n\u001B[0;32m     66\u001B[0m )\n\u001B[1;32m---> 67\u001B[0m \u001B[38;5;28;01mreturn\u001B[39;00m save_config(\n\u001B[0;32m     68\u001B[0m     filename\u001B[38;5;241m=\u001B[39mfilename,\n\u001B[0;32m     69\u001B[0m     name\u001B[38;5;241m=\u001B[39mname,\n\u001B[0;32m     70\u001B[0m     overwrite\u001B[38;5;241m=\u001B[39moverwrite,\n\u001B[0;32m     71\u001B[0m     config\u001B[38;5;241m=\u001B[39mconfig\n\u001B[0;32m     72\u001B[0m     \u001B[38;5;66;03m# avoid storing invalid accounts\u001B[39;00m\n\u001B[0;32m     73\u001B[0m     \u001B[38;5;241m.\u001B[39mvalidate()\u001B[38;5;241m.\u001B[39mto_saved_format(),\n\u001B[0;32m     74\u001B[0m     set_as_default\u001B[38;5;241m=\u001B[39mset_as_default,\n\u001B[0;32m     75\u001B[0m )\n",
      "File \u001B[1;32m~\\miniconda3\\envs\\TPInfQuant\\Lib\\site-packages\\qiskit_ibm_runtime\\accounts\\storage.py:36\u001B[0m, in \u001B[0;36msave_config\u001B[1;34m(filename, name, config, overwrite, set_as_default)\u001B[0m\n\u001B[0;32m     33\u001B[0m     data \u001B[38;5;241m=\u001B[39m json\u001B[38;5;241m.\u001B[39mload(json_in)\n\u001B[0;32m     35\u001B[0m \u001B[38;5;28;01mif\u001B[39;00m data\u001B[38;5;241m.\u001B[39mget(name) \u001B[38;5;129;01mand\u001B[39;00m \u001B[38;5;129;01mnot\u001B[39;00m overwrite:\n\u001B[1;32m---> 36\u001B[0m     \u001B[38;5;28;01mraise\u001B[39;00m AccountAlreadyExistsError(\n\u001B[0;32m     37\u001B[0m         \u001B[38;5;124mf\u001B[39m\u001B[38;5;124m\"\u001B[39m\u001B[38;5;124mNamed account (\u001B[39m\u001B[38;5;132;01m{\u001B[39;00mname\u001B[38;5;132;01m}\u001B[39;00m\u001B[38;5;124m) already exists. \u001B[39m\u001B[38;5;124m\"\u001B[39m \u001B[38;5;124mf\u001B[39m\u001B[38;5;124m\"\u001B[39m\u001B[38;5;124mSet overwrite=True to overwrite.\u001B[39m\u001B[38;5;124m\"\u001B[39m\n\u001B[0;32m     38\u001B[0m     )\n\u001B[0;32m     40\u001B[0m data[name] \u001B[38;5;241m=\u001B[39m config\n\u001B[0;32m     42\u001B[0m \u001B[38;5;66;03m# if set_as_default, but another account is defined as default, user must specify overwrite to change\u001B[39;00m\n\u001B[0;32m     43\u001B[0m \u001B[38;5;66;03m# the default account.\u001B[39;00m\n",
      "\u001B[1;31mAccountAlreadyExistsError\u001B[0m: 'Named account (default-ibm-quantum) already exists. Set overwrite=True to overwrite.'"
     ]
    }
   ],
   "source": [
    "# Save an IBM Quantum account and set it as your default account.\n",
    "QiskitRuntimeService.save_account(channel=\"ibm_quantum\",token=\"a196ee624f4d28a560f4bd27ff372f17ef20c6f0a6e206fe90117d9500f895b76d2edde496916747a49928ea6cf0bea1f8983f40a79b6ec64264c87f744a1367\", set_as_default=True)"
   ],
   "metadata": {
    "collapsed": false,
    "ExecuteTime": {
     "end_time": "2023-11-10T09:47:00.598103900Z",
     "start_time": "2023-11-10T09:47:00.425841700Z"
    }
   },
   "id": "initial_id"
  },
  {
   "cell_type": "code",
   "execution_count": 5,
   "outputs": [],
   "source": [
    "# Load saved credentials\n",
    "service = QiskitRuntimeService()"
   ],
   "metadata": {
    "collapsed": false,
    "ExecuteTime": {
     "end_time": "2023-11-10T09:47:08.626731400Z",
     "start_time": "2023-11-10T09:47:04.518763800Z"
    }
   },
   "id": "6bde1384dfe4a819"
  },
  {
   "cell_type": "code",
   "execution_count": null,
   "outputs": [
    {
     "name": "stdout",
     "output_type": "stream",
     "text": [
      "job id: cn6zrx364yf0008g8sv0\n"
     ]
    }
   ],
   "source": [
    "# You'll need to specify the credentials when initializing QiskitRuntimeService, if they were not previously saved.\n",
    "backend = service.backend(\"ibm_nairobi\")\n",
    "\n",
    "job = Sampler(backend).run(ReferenceCircuits.bell())\n",
    "print(f\"job id: {job.job_id()}\")\n",
    "\n",
    "result = job.result()\n",
    "print(result)"
   ],
   "metadata": {
    "collapsed": false,
    "is_executing": true,
    "ExecuteTime": {
     "start_time": "2023-11-10T09:48:36.007202800Z"
    }
   },
   "id": "c0fa5082400d579a"
  }
 ],
 "metadata": {
  "kernelspec": {
   "display_name": "Python 3",
   "language": "python",
   "name": "python3"
  },
  "language_info": {
   "codemirror_mode": {
    "name": "ipython",
    "version": 2
   },
   "file_extension": ".py",
   "mimetype": "text/x-python",
   "name": "python",
   "nbconvert_exporter": "python",
   "pygments_lexer": "ipython2",
   "version": "2.7.6"
  }
 },
 "nbformat": 4,
 "nbformat_minor": 5
}
